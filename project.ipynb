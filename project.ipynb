{
 "cells": [
  {
   "cell_type": "code",
   "execution_count": 1,
   "id": "3c7e0cf5-fb36-40aa-96f6-ee6beb7bd13c",
   "metadata": {},
   "outputs": [
    {
     "name": "stdout",
     "output_type": "stream",
     "text": [
      "ISBN             Book Name               Auther            Publication Year    Availability\n",
      "__________________________________________________________________________________________\n",
      "9781612681139    Rich dad poor dad       Robert kiyosaki     2022              Available\n",
      "9780857197689    psychology of money     Morgan Housel       2020              Available\n",
      "9780060555665    Intellegent Invesetor   Bengamin Jraham     2003              Not Available\n",
      "\n",
      "\n"
     ]
    }
   ],
   "source": [
    "books = open('booxs.txt','r+')\n",
    "print(books.read())"
   ]
  },
  {
   "cell_type": "code",
   "execution_count": 4,
   "id": "75f376d4-c501-449f-be66-8ed7e1a06dc2",
   "metadata": {},
   "outputs": [
    {
     "name": "stdout",
     "output_type": "stream",
     "text": [
      "ID        Name              Contact Details\n",
      "___________________________________________\n",
      "1234567   Aeshah Alhawl     0570578213\n",
      "2345678   Remaz Alhashim    0544582287\n",
      "3456789   Esraa Alhashim    0566828328\n"
     ]
    }
   ],
   "source": [
    "borrows = open('brrowers.txt','r+')\n"
   ]
  },
  {
   "cell_type": "code",
   "execution_count": 21,
   "id": "ee56a5d1-9f99-4f09-b831-3b15a7074a4b",
   "metadata": {},
   "outputs": [
    {
     "name": "stdin",
     "output_type": "stream",
     "text": [
      "inter id: 1234567\n"
     ]
    },
    {
     "name": "stdout",
     "output_type": "stream",
     "text": [
      "1234567   Aeshah Alhawl     0570578213\n",
      "\n"
     ]
    }
   ],
   "source": [
    "ID = input('Enter id:')\n",
    "borrows = open('brrowers.txt','r+')\n",
    "details=borrows.readlines()\n",
    "for I in details[2:]:\n",
    "\n",
    "    if ID in I:\n",
    "        print(I)\n",
    "    else:\n",
    "        print('Error')\n",
    "    break\n",
    "    \n",
    "    \n",
    "\n",
    "    "
   ]
  },
  {
   "cell_type": "code",
   "execution_count": 23,
   "id": "b982630b-78cd-45fd-bb46-0b073e896543",
   "metadata": {},
   "outputs": [
    {
     "name": "stdin",
     "output_type": "stream",
     "text": [
      "inter ISBN: 9781612681139\n"
     ]
    },
    {
     "name": "stdout",
     "output_type": "stream",
     "text": [
      "9781612681139    Rich dad poor dad       Robert kiyosaki     2022              Available\n",
      "\n"
     ]
    }
   ],
   "source": [
    "ISBN = input('Enter ISBN:')\n",
    "books = open('booxs.txt','r+')\n",
    "details_book=books.readlines()\n",
    "for I in details_book[2:]:\n",
    "\n",
    "    if ISBN in I:\n",
    "        print(I)\n",
    "    else:\n",
    "        print('Error')\n",
    "    break"
   ]
  },
  {
   "cell_type": "code",
   "execution_count": 33,
   "id": "e6a75250-b5b2-4060-ab46-5b085844b5c8",
   "metadata": {},
   "outputs": [
    {
     "ename": "NameError",
     "evalue": "name 'borrowers' is not defined",
     "output_type": "error",
     "traceback": [
      "\u001b[1;31m---------------------------------------------------------------------------\u001b[0m",
      "\u001b[1;31mNameError\u001b[0m                                 Traceback (most recent call last)",
      "Cell \u001b[1;32mIn[33], line 12\u001b[0m\n\u001b[0;32m      9\u001b[0m             borrowers\u001b[38;5;241m.\u001b[39mwrite({ID:\u001b[38;5;241m7\u001b[39m},{name:\u001b[38;5;241m18\u001b[39m})\n\u001b[0;32m     10\u001b[0m     \u001b[38;5;28;01mreturn\u001b[39;00m borrowers\n\u001b[1;32m---> 12\u001b[0m \u001b[38;5;28mprint\u001b[39m(borrowers\u001b[38;5;241m.\u001b[39mread())\n",
      "\u001b[1;31mNameError\u001b[0m: name 'borrowers' is not defined"
     ]
    }
   ],
   "source": [
    "def add_new_borrowers(ID,name):\n",
    "    ID=input('Enter borrower ID:')\n",
    "    name=input('Enter borrower name:')\n",
    "    borrowers=open('brrowers.txt', 'r+') \n",
    "    borrowers=borrowers.read()\n",
    "    for I in details[2:]:\n",
    "        if ID not in I:\n",
    "            borrowers=open('borrowers.txt', 'a')\n",
    "            borrowers.write({ID:7},{name:18})\n",
    "    return borrowers\n",
    "\n",
    "print(borrowers.read())    "
   ]
  },
  {
   "cell_type": "code",
   "execution_count": null,
   "id": "6c8cabbe-bbd2-4b10-bb7a-66b5e7a5534b",
   "metadata": {},
   "outputs": [],
   "source": []
  }
 ],
 "metadata": {
  "kernelspec": {
   "display_name": "Python 3 (ipykernel)",
   "language": "python",
   "name": "python3"
  },
  "language_info": {
   "codemirror_mode": {
    "name": "ipython",
    "version": 3
   },
   "file_extension": ".py",
   "mimetype": "text/x-python",
   "name": "python",
   "nbconvert_exporter": "python",
   "pygments_lexer": "ipython3",
   "version": "3.12.7"
  }
 },
 "nbformat": 4,
 "nbformat_minor": 5
}
